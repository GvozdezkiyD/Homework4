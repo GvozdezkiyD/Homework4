{
  "nbformat": 4,
  "nbformat_minor": 0,
  "metadata": {
    "colab": {
      "provenance": []
    },
    "kernelspec": {
      "name": "python3",
      "display_name": "Python 3"
    },
    "language_info": {
      "name": "python"
    }
  },
  "cells": [
    {
      "cell_type": "markdown",
      "source": [
        "# Задание 1"
      ],
      "metadata": {
        "id": "DQQFfNTLJ20S"
      }
    },
    {
      "cell_type": "code",
      "execution_count": null,
      "metadata": {
        "id": "XqAzbM6WJyE2",
        "colab": {
          "base_uri": "https://localhost:8080/"
        },
        "outputId": "204f4e14-7d05-4a62-8144-1f575e2d6e06"
      },
      "outputs": [
        {
          "output_type": "stream",
          "name": "stdout",
          "text": [
            "Оптимальный порядок: (A * B) * C, число операций: 3\n"
          ]
        }
      ],
      "source": [
        "def calculate_operations(dimensions):\n",
        "    \"\"\"\n",
        "    Подсчитывает количество операций для последовательности умножения матриц.\n",
        "\n",
        "    :param dimensions: Список кортежей, где каждый элемент — размер матрицы (строки, столбцы).\n",
        "    :return: Словарь с затратами операций для всех возможных последовательностей.\n",
        "    \"\"\"\n",
        "    # Размеры матриц\n",
        "    A, B, C = dimensions\n",
        "\n",
        "    # Операции для ((A * B) * C)\n",
        "    cost_1 = A[0] * A[1] * B[1] + A[0] * B[1] * C[1]\n",
        "\n",
        "    # Операции для (A * (B * C))\n",
        "    cost_2 = B[0] * B[1] * C[1] + A[0] * A[1] * C[1]\n",
        "\n",
        "    return {\n",
        "        \"(A * B) * C\": cost_1,\n",
        "        \"A * (B * C)\": cost_2\n",
        "    }\n",
        "\n",
        "\n",
        "def optimal_multiplication_order(A, B, C):\n",
        "    \"\"\"\n",
        "    Определяет оптимальный порядок умножения трёх матриц на основе минимального количества операций.\n",
        "\n",
        "    :param A: Матрица A в виде 2D-списка.\n",
        "    :param B: Матрица B в виде 2D-списка.\n",
        "    :param C: Матрица C в виде 2D-списка.\n",
        "    :return: Строка с оптимальной последовательностью и числом операций.\n",
        "    \"\"\"\n",
        "    # Получение размеров матриц\n",
        "    dimensions = [(len(A), len(A[0])), (len(B), len(B[0])), (len(C), len(C[0]))]\n",
        "\n",
        "    # Подсчёт операций для каждой последовательности\n",
        "    operation_costs = calculate_operations(dimensions)\n",
        "\n",
        "    # Поиск оптимального порядка\n",
        "    optimal_order = min(operation_costs, key=operation_costs.get)\n",
        "\n",
        "    return f\"Оптимальный порядок: {optimal_order}, число операций: {operation_costs[optimal_order]}\"\n",
        "\n",
        "\n",
        "if __name__ == \"__main__\":\n",
        "    # Входные данные\n",
        "    A = [[1, 2]]       # Матрица 1x2\n",
        "    B = [[1], [2]]     # Матрица 2x1\n",
        "    C = [[5]]          # Матрица 1x1\n",
        "\n",
        "    # Определение оптимального порядка умножения\n",
        "    result = optimal_multiplication_order(A, B, C)\n",
        "\n",
        "    # Вывод результата\n",
        "    print(result)\n"
      ]
    },
    {
      "cell_type": "markdown",
      "source": [
        "# Задание 2\n"
      ],
      "metadata": {
        "id": "vQvUEt_KKShX"
      }
    },
    {
      "cell_type": "code",
      "source": [
        "import numpy as np\n",
        "\n",
        "def best_worst_X(X, Y):\n",
        "    \"\"\"\n",
        "    Определяет:\n",
        "    1. Признак, наиболее сильно коррелирующий с целевой переменной Y.\n",
        "    2. Признак, наименее коррелирующий с целевой переменной Y.\n",
        "\n",
        "    :param X: numpy.ndarray — матрица признаков (n, m), где n — наблюдения, m — признаки.\n",
        "    :param Y: numpy.ndarray — вектор целевой переменной (n,).\n",
        "    :return: tuple — (индекс лучшего признака, индекс худшего признака).\n",
        "    \"\"\"\n",
        "    # Проверка входных данных\n",
        "    if not isinstance(X, np.ndarray) or not isinstance(Y, np.ndarray):\n",
        "        raise ValueError(\"X и Y должны быть массивами numpy.\")\n",
        "    if X.shape[0] != len(Y):\n",
        "        raise ValueError(\"Количество строк в X должно совпадать с длиной Y.\")\n",
        "\n",
        "    # 1. Корреляция признаков с Y\n",
        "    correlations_with_y = []\n",
        "    for i in range(X.shape[1]):\n",
        "        # Рассчитываем корреляцию признака с Y, исключая константные столбцы\n",
        "        if len(np.unique(X[:, i])) > 1:  # Признаки с вариацией\n",
        "            corr = np.corrcoef(X[:, i], Y)[0, 1]\n",
        "            correlations_with_y.append(corr)\n",
        "        else:\n",
        "            correlations_with_y.append(0)  # Если признак константный, корреляция равна 0\n",
        "\n",
        "    # Ищем признак с максимальной корреляцией (по модулю) с Y\n",
        "    best_feature_index = np.argmax(np.abs(correlations_with_y))\n",
        "\n",
        "    # Ищем признак с минимальной корреляцией (по модулю) с Y\n",
        "    worst_feature_index = np.argmin(np.abs(correlations_with_y))\n",
        "\n",
        "    return best_feature_index, worst_feature_index\n",
        "\n",
        "\n",
        "if __name__ == \"__main__\":\n",
        "    # Пример входных данных\n",
        "    X = np.array([\n",
        "        [3, 51, 1, 0],\n",
        "        [1, 30, 1, 0],\n",
        "        [3, 85, 2, 1],\n",
        "        [3, 45, 1, 0],\n",
        "        [2, 100, 3, 0]\n",
        "    ])\n",
        "    Y = np.array([2200, 1600, 2000, 4500, 5000])\n",
        "\n",
        "    # Вызов функции\n",
        "    best_feature, worst_feature = best_worst_X(X, Y)\n",
        "    print(f\"Лучший признак: {best_feature}\")\n",
        "    print(f\"Худший признак: {worst_feature}\")\n"
      ],
      "metadata": {
        "id": "TMJq9ob2KYBY",
        "colab": {
          "base_uri": "https://localhost:8080/"
        },
        "outputId": "46546428-554c-4cbb-f9dd-172d11ab0a1f"
      },
      "execution_count": null,
      "outputs": [
        {
          "output_type": "stream",
          "name": "stdout",
          "text": [
            "Лучший признак: 2\n",
            "Худший признак: 0\n"
          ]
        }
      ]
    },
    {
      "cell_type": "markdown",
      "source": [
        "#Задание 3\n"
      ],
      "metadata": {
        "id": "hindpJMCKhB8"
      }
    },
    {
      "cell_type": "code",
      "source": [
        "import numpy as np\n",
        "\n",
        "def corr_rank(X):\n",
        "    \"\"\"\n",
        "    Вычисляет ранг корреляционной матрицы для матрицы признаков X.\n",
        "\n",
        "    :param X: numpy.ndarray — матрица признаков (n, m), где n — наблюдения, m — признаки.\n",
        "    :return: int — ранг корреляционной матрицы.\n",
        "    \"\"\"\n",
        "    # Проверка входных данных\n",
        "    if not isinstance(X, np.ndarray):\n",
        "        raise ValueError(\"X должен быть массивом numpy.\")\n",
        "    if X.ndim != 2:\n",
        "        raise ValueError(\"X должен быть двухмерным массивом.\")\n",
        "\n",
        "    # Вычисление корреляционной матрицы\n",
        "    correlation_matrix = np.corrcoef(X, rowvar=False)\n",
        "\n",
        "    # Вычисление ранга корреляционной матрицы\n",
        "    rank = np.linalg.matrix_rank(correlation_matrix)\n",
        "\n",
        "    return rank\n",
        "\n",
        "\n",
        "if __name__ == \"__main__\":\n",
        "    # Матрица признаков из таблицы\n",
        "    X = np.array([\n",
        "        [3, 51, 3, 1, 0],\n",
        "        [1, 30, 1, 0, 0],\n",
        "        [3, 85, 3, 1, 1],\n",
        "        [3, 45, 1, 0, 0],\n",
        "        [2, 100, 2, 0, 0],\n",
        "        [3, 53, 3, 1, 1],\n",
        "        [1, 33, 1, 0, 0],\n",
        "        [1, 31, 1, 0, 0],\n",
        "        [1, 43, 2, 1, 1]\n",
        "    ])\n",
        "\n",
        "    # Вычисление ранга корреляционной матрицы\n",
        "    rank = corr_rank(X)\n",
        "    print(f\"Ранг корреляционной матрицы: {rank}\")\n"
      ],
      "metadata": {
        "id": "-YLajcsEKkuQ",
        "colab": {
          "base_uri": "https://localhost:8080/"
        },
        "outputId": "9af0ead0-da55-4059-dbd3-9a0f5ba53c89"
      },
      "execution_count": null,
      "outputs": [
        {
          "output_type": "stream",
          "name": "stdout",
          "text": [
            "Ранг корреляционной матрицы: 5\n"
          ]
        }
      ]
    },
    {
      "cell_type": "markdown",
      "source": [
        "# Задание 4"
      ],
      "metadata": {
        "id": "tKweU9DCKk-f"
      }
    },
    {
      "cell_type": "code",
      "source": [
        "import numpy as np\n",
        "\n",
        "def inverse_matrix(A):\n",
        "    \"\"\"\n",
        "    Вычисляет обратную матрицу для заданной матрицы A.\n",
        "\n",
        "    :param A: numpy.ndarray — квадратная матрица (размер n x n).\n",
        "    :return: numpy.ndarray или None — обратная матрица или None, если матрица необратима.\n",
        "    \"\"\"\n",
        "    # Проверка, что матрица квадратная\n",
        "    if not isinstance(A, np.ndarray):\n",
        "        raise ValueError(\"A должен быть массивом numpy.\")\n",
        "    if A.shape[0] != A.shape[1]:\n",
        "        raise ValueError(\"Матрица A должна быть квадратной.\")\n",
        "\n",
        "    # Вычисление определителя\n",
        "    det = np.linalg.det(A)\n",
        "\n",
        "    # Проверка, что определитель не близок к нулю\n",
        "    if abs(det) < 1e-10:\n",
        "        return None  # Матрица необратима\n",
        "\n",
        "    # Вычисление обратной матрицы\n",
        "    inverse = np.linalg.inv(A)\n",
        "    return inverse\n",
        "\n",
        "\n",
        "if __name__ == \"__main__\":\n",
        "    # Пример данных\n",
        "    A = np.array([\n",
        "        [1, 2],\n",
        "        [3, 4]\n",
        "    ])\n",
        "\n",
        "    # Вычисление обратной матрицы\n",
        "    result = inverse_matrix(A)\n",
        "    if result is not None:\n",
        "        print(\"Обратная матрица:\")\n",
        "        print(result)\n",
        "    else:\n",
        "        print(\"Матрица необратима.\")\n"
      ],
      "metadata": {
        "id": "pi2fjbkjKmzi",
        "colab": {
          "base_uri": "https://localhost:8080/"
        },
        "outputId": "f22172e5-ce52-4259-8349-dbd28bf43beb"
      },
      "execution_count": null,
      "outputs": [
        {
          "output_type": "stream",
          "name": "stdout",
          "text": [
            "Обратная матрица:\n",
            "[[-2.   1. ]\n",
            " [ 1.5 -0.5]]\n"
          ]
        }
      ]
    },
    {
      "cell_type": "markdown",
      "source": [
        "# Задание 5"
      ],
      "metadata": {
        "id": "pnIqMUVsKnTq"
      }
    },
    {
      "cell_type": "code",
      "source": [
        "import numpy as np\n",
        "\n",
        "def ols_model(X, Y):\n",
        "    \"\"\"\n",
        "    Вычисляет коэффициенты линейной регрессии методом наименьших квадратов (OLS).\n",
        "\n",
        "    :param X: numpy.ndarray — матрица признаков (размер n x m).\n",
        "    :param Y: numpy.ndarray — вектор целевой переменной (размер n).\n",
        "    :return: numpy.ndarray — вектор коэффициентов регрессии (размер m).\n",
        "    \"\"\"\n",
        "    # Проверка входных данных\n",
        "    if not isinstance(X, np.ndarray) or not isinstance(Y, np.ndarray):\n",
        "        raise ValueError(\"X и Y должны быть массивами numpy.\")\n",
        "    if X.shape[0] != len(Y):\n",
        "        raise ValueError(\"Количество строк в X должно совпадать с длиной Y.\")\n",
        "\n",
        "    # Добавляем столбец единиц для свободного члена (перехвата)\n",
        "    X = np.hstack([np.ones((X.shape[0], 1)), X])  # Добавляем столбец единиц в X\n",
        "\n",
        "    # Вычисляем (X^T X)^(-1) X^T Y\n",
        "    XT = X.T\n",
        "    XTX = XT @ X  # Умножение X^T на X\n",
        "    try:\n",
        "        XTX_inv = np.linalg.inv(XTX)  # Обратная матрица (X^T X)^(-1)\n",
        "    except np.linalg.LinAlgError:\n",
        "        raise ValueError(\"Матрица X^T X необратима, невозможно вычислить коэффициенты.\")\n",
        "\n",
        "    a = XTX_inv @ XT @ Y  # Вычисление коэффициентов регрессии\n",
        "    return a\n",
        "\n",
        "\n",
        "if __name__ == \"__main__\":\n",
        "    # Матрица признаков из таблицы\n",
        "    X = np.array([\n",
        "        [3, 51, 3, 1, 0],\n",
        "        [1, 30, 1, 0, 0],\n",
        "        [3, 85, 3, 1, 1],\n",
        "        [3, 45, 1, 0, 0],\n",
        "        [2, 100, 2, 0, 0],\n",
        "        [3, 53, 3, 1, 1],\n",
        "        [1, 33, 1, 0, 0],\n",
        "        [1, 31, 1, 0, 0],\n",
        "        [1, 43, 2, 1, 1]\n",
        "    ])\n",
        "    # Вектор целевой переменной (цены) из таблицы\n",
        "    Y = np.array([2200, 1600, 2000, 4500, 5000, 2000, 1500, 1500, 2000])\n",
        "\n",
        "    # Вычисление коэффициентов модели\n",
        "    coefficients = ols_model(X, Y)\n",
        "    print(\"Коэффициенты линейной регрессии:\")\n",
        "    print(coefficients)\n"
      ],
      "metadata": {
        "id": "g34wFIBuKpmL",
        "colab": {
          "base_uri": "https://localhost:8080/"
        },
        "outputId": "71fd6aaa-ac93-4798-82ec-6771944e27eb"
      },
      "execution_count": null,
      "outputs": [
        {
          "output_type": "stream",
          "name": "stdout",
          "text": [
            "Коэффициенты линейной регрессии:\n",
            "[ 1414.81713402   789.86360879    57.42715692 -2169.68084066\n",
            "  1995.84955873  -932.6380056 ]\n"
          ]
        }
      ]
    }
  ]
}